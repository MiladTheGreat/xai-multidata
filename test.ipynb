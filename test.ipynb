{
 "cells": [
  {
   "cell_type": "code",
   "execution_count": null,
   "id": "4884ead1",
   "metadata": {},
   "outputs": [],
   "source": [
    "import yaml\n",
    "import os\n",
    "with open('configs/config.yaml','r') as f:\n",
    "    cfg = yaml.safe_load(f)\n",
    "\n",
    "datasets_cfg = cfg['dataset']\n",
    "models_cfg = cfg['model']\n",
    "train_cfg = cfg['train']\n",
    "optim_cfg = cfg['optim']\n",
    "checkpoint_cfg = cfg['checkpoint']\n",
    "output_cfg = cfg['output']\n",
    "trained_models = os.listdir('checkpoints')\n",
    "if f'{models_cfg['name']}.pth' not in trained_models:\n",
    "    print('s')"
   ]
  }
 ],
 "metadata": {
  "kernelspec": {
   "display_name": "venv",
   "language": "python",
   "name": "python3"
  },
  "language_info": {
   "codemirror_mode": {
    "name": "ipython",
    "version": 3
   },
   "file_extension": ".py",
   "mimetype": "text/x-python",
   "name": "python",
   "nbconvert_exporter": "python",
   "pygments_lexer": "ipython3",
   "version": "3.12.5"
  }
 },
 "nbformat": 4,
 "nbformat_minor": 5
}

{
 "cells": [
  {
   "cell_type": "code",
   "execution_count": 2,
   "id": "ada3e7ec",
   "metadata": {},
   "outputs": [],
   "source": [
    "from datasets import get_dataset\n",
    "\n"
   ]
  },
  {
   "cell_type": "code",
   "execution_count": 3,
   "id": "dffed3f4",
   "metadata": {},
   "outputs": [
    {
     "name": "stdout",
     "output_type": "stream",
     "text": [
      "5994\n"
     ]
    }
   ],
   "source": [
    "import yaml\n",
    "with open('./configs/config.yaml','r') as f:\n",
    "    config = yaml.safe_load(f)\n",
    "ds_config = config['dataset']\n",
    "\n",
    "dataset = get_dataset(**ds_config)\n",
    "print(len(dataset))\n",
    "img, label = dataset[0] "
   ]
  },
  {
   "cell_type": "code",
   "execution_count": null,
   "id": "23e032e9",
   "metadata": {},
   "outputs": [
    {
     "ename": "KeyError",
     "evalue": "'root'",
     "output_type": "error",
     "traceback": [
      "\u001b[31m---------------------------------------------------------------------------\u001b[39m",
      "\u001b[31mKeyError\u001b[39m                                  Traceback (most recent call last)",
      "\u001b[36mCell\u001b[39m\u001b[36m \u001b[39m\u001b[32mIn[6]\u001b[39m\u001b[32m, line 6\u001b[39m\n\u001b[32m      2\u001b[39m \u001b[38;5;28;01mfrom\u001b[39;00m\u001b[38;5;250m \u001b[39m\u001b[34;01mutils\u001b[39;00m\u001b[34;01m.\u001b[39;00m\u001b[34;01mget_transforms\u001b[39;00m\u001b[38;5;250m \u001b[39m\u001b[38;5;28;01mimport\u001b[39;00m get_transforms\n\u001b[32m      4\u001b[39m train_transform,test_transform = get_transforms()\n\u001b[32m----> \u001b[39m\u001b[32m6\u001b[39m train_dataset = get_dataset(ds_config[\u001b[33m'\u001b[39m\u001b[33mname\u001b[39m\u001b[33m'\u001b[39m],\u001b[43mconfig\u001b[49m\u001b[43m[\u001b[49m\u001b[33;43m'\u001b[39;49m\u001b[33;43mroot\u001b[39;49m\u001b[33;43m'\u001b[39;49m\u001b[43m]\u001b[49m,\u001b[33m'\u001b[39m\u001b[33mtrain\u001b[39m\u001b[33m'\u001b[39m,train_transform)\n\u001b[32m      7\u001b[39m test_dataset  = get_dataset(ds_config[\u001b[33m'\u001b[39m\u001b[33mname\u001b[39m\u001b[33m'\u001b[39m],config[\u001b[33m'\u001b[39m\u001b[33mroot\u001b[39m\u001b[33m'\u001b[39m],\u001b[33m'\u001b[39m\u001b[33mtest\u001b[39m\u001b[33m'\u001b[39m,train_transform)\n",
      "\u001b[31mKeyError\u001b[39m: 'root'"
     ]
    }
   ],
   "source": [
    "from utils.dataloader import get_dataloaders\n",
    "from utils.get_transforms import get_transforms\n",
    "\n",
    "train_transform,test_transform = get_transforms()\n",
    "\n",
    "train_dataset = get_dataset(ds_config['name'],ds_config['root'],'train',train_transform)\n",
    "test_dataset  = get_dataset(ds_config['name'],ds_config['root'],'test',train_transform)"
   ]
  }
 ],
 "metadata": {
  "kernelspec": {
   "display_name": "venv",
   "language": "python",
   "name": "python3"
  },
  "language_info": {
   "codemirror_mode": {
    "name": "ipython",
    "version": 3
   },
   "file_extension": ".py",
   "mimetype": "text/x-python",
   "name": "python",
   "nbconvert_exporter": "python",
   "pygments_lexer": "ipython3",
   "version": "3.12.5"
  }
 },
 "nbformat": 4,
 "nbformat_minor": 5
}

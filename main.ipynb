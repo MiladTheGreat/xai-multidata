{
 "cells": [
  {
   "cell_type": "code",
   "execution_count": 5,
   "id": "80b946a8",
   "metadata": {},
   "outputs": [],
   "source": [
    "import yaml\n",
    "import torch\n",
    "from datasets import get_dataset\n",
    "from utils.get_transforms import get_transforms\n",
    "from utils.dataloader import get_dataloaders\n",
    "from models.model import get_model\n",
    "from utils.train_utils import train, evaluate, save_checkpoint\n"
   ]
  },
  {
   "cell_type": "code",
   "execution_count": 10,
   "id": "c2dc9db4",
   "metadata": {},
   "outputs": [],
   "source": [
    "with open('configs/config.yaml','r') as f:\n",
    "    cfg = yaml.safe_load(f)\n",
    "\n",
    "datasets_cfg = cfg['dataset']\n",
    "models_cfg = cfg['model']\n",
    "train_cfg = cfg['train']\n",
    "optim_cfg = cfg['optim']\n",
    "checkpoint_cfg = cfg['checkpoint']\n",
    "output_cfg = cfg['output']"
   ]
  },
  {
   "cell_type": "code",
   "execution_count": 12,
   "id": "14f023e8",
   "metadata": {},
   "outputs": [],
   "source": [
    "train_transform , test_transform = get_transforms()\n",
    "device = 'cuda' if torch.cuda.is_available() else 'cpu'\n",
    "\n",
    "train_dataset = get_dataset(datasets_cfg['name'],root=datasets_cfg['root'],split='train',transform=train_transform)\n",
    "test_dataset = get_dataset(datasets_cfg['name'],root=datasets_cfg['root'],split='test',transform=train_transform)\n",
    "dataset_dict = {'train':train_dataset,'tests':test_dataset}\n",
    "\n",
    "dataloaders = get_dataloaders(dataset_dict,batch_size=datasets_cfg['batch_size'],num_workers=datasets_cfg['num_workers'],shuffle_train=True)"
   ]
  },
  {
   "cell_type": "code",
   "execution_count": 14,
   "id": "a33bef2f",
   "metadata": {},
   "outputs": [
    {
     "name": "stdout",
     "output_type": "stream",
     "text": [
      "Downloading: \"https://download.pytorch.org/models/swin_t-704ceda3.pth\" to C:\\Users\\Milad/.cache\\torch\\hub\\checkpoints\\swin_t-704ceda3.pth\n"
     ]
    },
    {
     "name": "stderr",
     "output_type": "stream",
     "text": [
      "100%|██████████| 108M/108M [00:26<00:00, 4.21MB/s] \n"
     ]
    }
   ],
   "source": [
    "params = models_cfg.get('params',{})\n",
    "model = get_model(models_cfg['name'],models_cfg['num_classes'],params=params).to(device)"
   ]
  },
  {
   "cell_type": "code",
   "execution_count": 15,
   "id": "f1820353",
   "metadata": {},
   "outputs": [],
   "source": [
    "optimizer = torch.optim.Adam(model.parameters(),optim_cfg['lr'])\n",
    "loss_fn = torch.nn.CrossEntropyLoss()"
   ]
  },
  {
   "cell_type": "code",
   "execution_count": null,
   "id": "2bcaf4e2",
   "metadata": {},
   "outputs": [],
   "source": [
    "best_acc = 0\n",
    "epochs = train_cfg['epochs']\n",
    "\n",
    "for epoch in range(epochs):\n",
    "    train_loss = train(model,dataloaders['train'],optimizer,loss_fn,device)\n",
    "    acc = evaluate(model,dataloaders['test'],device)\n",
    "    print(f\"epoch:{epoch+1}/{epochs}: train loss: {train_loss:.4f} , acuracy: {acc:.2f}%\")\n",
    "    if acc > best_acc:\n",
    "        save_checkpoint(model,models_cfg['name'])\n",
    "        \n",
    "print(\"training_complete\")"
   ]
  }
 ],
 "metadata": {
  "kernelspec": {
   "display_name": "venv",
   "language": "python",
   "name": "python3"
  },
  "language_info": {
   "codemirror_mode": {
    "name": "ipython",
    "version": 3
   },
   "file_extension": ".py",
   "mimetype": "text/x-python",
   "name": "python",
   "nbconvert_exporter": "python",
   "pygments_lexer": "ipython3",
   "version": "3.12.5"
  }
 },
 "nbformat": 4,
 "nbformat_minor": 5
}
